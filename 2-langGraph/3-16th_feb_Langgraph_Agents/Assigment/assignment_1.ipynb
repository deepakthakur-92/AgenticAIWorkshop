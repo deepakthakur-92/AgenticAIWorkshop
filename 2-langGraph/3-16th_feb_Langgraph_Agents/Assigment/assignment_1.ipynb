{
 "cells": [
  {
   "cell_type": "markdown",
   "id": "055fe390",
   "metadata": {},
   "source": [
    "## Assigment on basic blog generator"
   ]
  },
  {
   "cell_type": "code",
   "execution_count": 1,
   "id": "3ef39991",
   "metadata": {},
   "outputs": [],
   "source": [
    "import os\n",
    "from dotenv import load_dotenv\n",
    "load_dotenv()\n",
    "\n",
    "os.environ[\"GROQ_API_KEY\"] = os.getenv(\"GROQ_API_KEY\")"
   ]
  },
  {
   "cell_type": "code",
   "execution_count": 2,
   "id": "71a18c02",
   "metadata": {},
   "outputs": [],
   "source": [
    "from langchain_groq import ChatGroq\n",
    "\n",
    "llm = ChatGroq(model=\"gemma2-9b-it\")"
   ]
  },
  {
   "cell_type": "code",
   "execution_count": 3,
   "id": "70decdbf",
   "metadata": {},
   "outputs": [],
   "source": [
    "from langgraph.graph import MessagesState"
   ]
  },
  {
   "cell_type": "code",
   "execution_count": 4,
   "id": "1250a651",
   "metadata": {},
   "outputs": [],
   "source": [
    "from typing_extensions import TypedDict\n",
    "from langchain_core.messages import AnyMessage\n",
    "from typing import Annotated\n",
    "from langgraph.graph.message import add_messages\n",
    "\n",
    "class MessagesState(TypedDict):\n",
    "    messages:Annotated[list[AnyMessage],add_messages]"
   ]
  },
  {
   "cell_type": "code",
   "execution_count": 40,
   "id": "9d0ef434",
   "metadata": {},
   "outputs": [],
   "source": [
    "from langchain_core.messages import HumanMessage, SystemMessage\n",
    "\n",
    "# System message\n",
    "sys_msg = SystemMessage(content=\"You are a Title Creator. Create ONE short, catchy title for the given topic. Just return the title, nothing else.\")\n",
    "\n",
    "\n",
    "def title_creator(state:MessagesState):\n",
    "    return {\"messages\":[llm.invoke([sys_msg] + state[\"messages\"])]}"
   ]
  },
  {
   "cell_type": "code",
   "execution_count": 41,
   "id": "593e9f9f",
   "metadata": {},
   "outputs": [],
   "source": [
    "from langchain_core.messages import HumanMessage, SystemMessage\n",
    "\n",
    "# System message\n",
    "sys_msg = SystemMessage(content=\"You are a Content Creator. Write a detailed explanation for the given title.\")\n",
    "\n",
    "\n",
    "def content_creator(state:MessagesState):\n",
    "    return {\"messages\":[llm.invoke([sys_msg] + state[\"messages\"])]}"
   ]
  },
  {
   "cell_type": "code",
   "execution_count": 42,
   "id": "311f990b",
   "metadata": {},
   "outputs": [
    {
     "data": {
      "image/png": "[encoded data removed]",
      "text/plain": [
       "<IPython.core.display.Image object>"
      ]
     },
     "metadata": {},
     "output_type": "display_data"
    }
   ],
   "source": [
    "from langgraph.graph import START, StateGraph, END\n",
    "from langgraph.prebuilt import tools_condition\n",
    "from langgraph.prebuilt import ToolNode\n",
    "from IPython.display import Image, display\n",
    "\n",
    "\n",
    "builder=StateGraph(MessagesState)\n",
    "\n",
    "# ## Define the node\n",
    "# builder.add_node(\"title_creator\", title_creator)\n",
    "# builder.add_node(\"content_creator\", content_creator)\n",
    "\n",
    "# builder.add_edge(START, \"title_creator\")\n",
    "# builder.add_edge(\"title_creator\", content_creator)\n",
    "# builder.add_edge(\"content_creator\", END)\n",
    "\n",
    "# graph = builder.compile()\n",
    "\n",
    "# Add nodes\n",
    "builder.add_node(\"title_creator\", title_creator)\n",
    "builder.add_node(\"content_creator\", content_creator)\n",
    "\n",
    "# Add edges\n",
    "builder.add_edge(START, \"title_creator\")\n",
    "builder.add_edge(\"title_creator\", \"content_creator\")\n",
    "builder.add_edge(\"content_creator\", END)\n",
    "\n",
    "# Compile the graph\n",
    "graph = builder.compile()\n",
    "\n",
    "display(Image(graph.get_graph().draw_mermaid_png()))"
   ]
  },
  {
   "cell_type": "code",
   "execution_count": 43,
   "id": "0b41ac56",
   "metadata": {},
   "outputs": [
    {
     "name": "stdout",
     "output_type": "stream",
     "text": [
      "================================\u001b[1m Human Message \u001b[0m=================================\n",
      "\n",
      "Machine Learning\n",
      "==================================\u001b[1m Ai Message \u001b[0m==================================\n",
      "\n",
      "## Demystifying Machine Learning: Your Guide to the Intelligent Revolution\n",
      "\n",
      "Machine learning (ML) is a branch of artificial intelligence (AI) that empowers computers to learn from data without explicit programming. Imagine teaching a dog a new trick – instead of giving it step-by-step instructions, you show it examples, reward desired behaviors, and it gradually learns the pattern. Machine learning operates on a similar principle, using algorithms to analyze vast amounts of data and identify patterns, make predictions, and improve its performance over time.\n",
      "\n",
      "**How does it work?**\n",
      "\n",
      "At its core, machine learning relies on algorithms – sets of instructions that computers follow to process data. These algorithms are trained on massive datasets, enabling them to identify relationships, trends, and anomalies within the data. \n",
      "\n",
      "There are several types of machine learning algorithms, each suited for different tasks:\n",
      "\n",
      "* **Supervised Learning:** This involves training an algorithm on labeled data – data where the desired output is already known. Think of it like teaching a child to identify animals by showing them pictures labeled \"cat,\" \"dog,\" \"bird,\" etc.\n",
      "\n",
      "* **Unsupervised Learning:** Here, the algorithm explores unlabeled data, searching for hidden patterns and structures. This is akin to grouping similar objects together without prior knowledge of their categories.\n",
      "\n",
      "* **Reinforcement Learning:** This involves training an agent to make decisions in an environment by rewarding desired actions and penalizing undesired ones. It's like training a robot to navigate a maze by rewarding it for reaching the goal and penalizing it for hitting walls.\n",
      "\n",
      "**Real-world applications:**\n",
      "\n",
      "Machine learning is revolutionizing various industries, including:\n",
      "\n",
      "* **Healthcare:** Diagnosing diseases, predicting patient outcomes, personalized medicine.\n",
      "* **Finance:** Fraud detection, credit risk assessment, algorithmic trading.\n",
      "* **Retail:** Recommendation systems, customer segmentation, inventory management.\n",
      "* **Transportation:** Self-driving cars, traffic optimization, route planning.\n",
      "\n",
      "**The future of machine learning:**\n",
      "\n",
      "Machine learning is a rapidly evolving field with immense potential. Advancements in areas like deep learning and natural language processing are pushing the boundaries of what's possible, paving the way for even more sophisticated applications in the future.\n",
      "\n",
      "**Getting started with machine learning:**\n",
      "\n",
      "While machine learning can seem complex, there are numerous resources available for beginners. Online courses, tutorials, and open-source libraries provide a gateway to exploring this exciting field.\n",
      "\n",
      "\n",
      "By understanding the fundamentals of machine learning, we can harness its power to solve real-world problems and shape a more intelligent future.\n",
      "==================================\u001b[1m Ai Message \u001b[0m==================================\n"
     ]
    }
   ],
   "source": [
    "messages = [HumanMessage(content=\"Machine Learning\")]\n",
    "messages = graph.invoke({\"messages\": messages})\n",
    "for m in messages['messages']:\n",
    "    m.pretty_print()"
   ]
  },
  {
   "cell_type": "code",
   "execution_count": null,
   "id": "ab7da9e8",
   "metadata": {},
   "outputs": [],
   "source": []
  }
 ],
 "metadata": {
  "kernelspec": {
   "display_name": "venv",
   "language": "python",
   "name": "python3"
  },
  "language_info": {
   "codemirror_mode": {
    "name": "ipython",
    "version": 3
   },
   "file_extension": ".py",
   "mimetype": "text/x-python",
   "name": "python",
   "nbconvert_exporter": "python",
   "pygments_lexer": "ipython3",
   "version": "3.12.0"
  }
 },
 "nbformat": 4,
 "nbformat_minor": 5
}
