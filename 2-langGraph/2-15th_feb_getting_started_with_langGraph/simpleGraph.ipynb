{
 "cells": [
  {
   "cell_type": "markdown",
   "id": "86ebb8c7",
   "metadata": {},
   "source": [
    "## State\n",
    "\n",
    "First, define the State of the graph.\n",
    "\n",
    "The State Schema serves as the input schema for all Nodes and Edges in the graph.\n",
    "\n",
    "Lets use the TypedDict class from python's typing module as our schema, which providestype hints for the keys."
   ]
  },
  {
   "cell_type": "code",
   "execution_count": 3,
   "id": "0431608b",
   "metadata": {},
   "outputs": [],
   "source": [
    "from typing_extensions import TypedDict\n",
    "class State(TypedDict):\n",
    "    graph_state:str"
   ]
  },
  {
   "cell_type": "markdown",
   "id": "b625c085",
   "metadata": {},
   "source": [
    "## Nodes\n",
    "\n",
    "Nodes are just python functions.\n",
    "\n",
    "The first positional argument is the state, as defined above.\n",
    "\n",
    "Because the state is a TypedDict with schema as defined above, each node can access the key, graph_state with state['graph_state'].\n",
    "\n",
    "Each node returns a new value of the state key graph_state.\n",
    "\n",
    "By defaults, the new value returned by each node will override the prior state value."
   ]
  },
  {
   "cell_type": "code",
   "execution_count": 5,
   "id": "e326abff",
   "metadata": {},
   "outputs": [],
   "source": [
    "def first_node(state):\n",
    "    print(\"My First Node is called\")\n",
    "    return {\"graph_state\": state['graph_state']+\" I am playing\"}\n",
    "\n",
    "def second_node(state):\n",
    "    print(\"My Second Node is called\")\n",
    "    return {\"graph_state\":state['graph_state']+\" Cricket\"}\n",
    "\n",
    "def third_node(state):\n",
    "    print(\"My Third Node is called\")\n",
    "    return{\"graph_state\":state['graph_state']+ \" Badminton\"}"
   ]
  },
  {
   "cell_type": "markdown",
   "id": "eea7368a",
   "metadata": {},
   "source": [
    "## Edges\n",
    "\n",
    "Edges connect the nodes.\n",
    "Normal Edges are used if you want to always go from, for example- node_1 to node_2.\n",
    "\n",
    "Conditional Edges are used if you want to optionally route between nodes.\n",
    "\n",
    "Conditional edges are implemented as functions that return the next nodes to visit based upon the some logic."
   ]
  },
  {
   "cell_type": "code",
   "execution_count": 6,
   "id": "b6a379b7",
   "metadata": {},
   "outputs": [],
   "source": [
    "import random\n",
    "from typing import Literal\n",
    "\n",
    "def decide_play(state)->Literal['second_node', 'third_node']:\n",
    "    graph_state=state['graph_state']\n",
    "\n",
    "    if random.random()<0.5:\n",
    "        return \"second_node\"\n",
    "\n",
    "    return \"third_node\"\n",
    "\n"
   ]
  },
  {
   "cell_type": "markdown",
   "id": "ed3ead2c",
   "metadata": {},
   "source": [
    "## Graph\n",
    "\n",
    "#### Graph Construction\n",
    "\n",
    "Now, we build the graph from our components defined above.\n",
    "\n",
    "The StateGraph class is the graph class that we can use.\n",
    "\n",
    "First, we initialize a StateGraph with the State class we defined above.\n",
    "\n",
    "Then, we add our nodes and edges.\n",
    "\n",
    "We use the START Node, a special node that sends user input to the graph, to indicatewhere to start our graph.\n",
    "\n",
    "The END Node is a special node that represents a terminal node.\n",
    "\n",
    "Finally, we compile our graph to perform a few basics checks on the graph structure.\n",
    "\n",
    "We can visualize the graph as Mermaid diagram.\n"
   ]
  },
  {
   "cell_type": "code",
   "execution_count": 7,
   "id": "344ac559",
   "metadata": {},
   "outputs": [
    {
     "data": {
      "image/png": "[encoded data removed]",
      "text/plain": [
       "<IPython.core.display.Image object>"
      ]
     },
     "metadata": {},
     "output_type": "display_data"
    }
   ],
   "source": [
    "from IPython.display import Image, display\n",
    "from langgraph.graph import StateGraph, START, END\n",
    "\n",
    "## Build Graph\n",
    "builder=StateGraph(State)\n",
    "\n",
    "builder.add_node(\"first_node\",first_node)\n",
    "builder.add_node(\"second_node\",second_node)\n",
    "builder.add_node(\"third_node\",third_node)\n",
    "\n",
    "## Logic\n",
    "builder.add_edge(START,\"first_node\")\n",
    "builder.add_conditional_edges(\"first_node\",decide_play)\n",
    "builder.add_edge(\"second_node\",END)\n",
    "builder.add_edge(\"third_node\",END)\n",
    "\n",
    "## Add\n",
    "graph=builder.compile()\n",
    "\n",
    "## View\n",
    "display(Image(graph.get_graph().draw_mermaid_png()))"
   ]
  },
  {
   "cell_type": "markdown",
   "id": "28e0dd11",
   "metadata": {},
   "source": [
    "## Graph Invocation\n",
    "\n",
    "The compiled graph implements the runnanble protocol.\n",
    "\n",
    "This provides a standard way to execute LangChain components.\n",
    "\n",
    "Invoke is one of the standard methods in this interface.\n",
    "\n",
    "The input is dictionary{\"graph_state\":\"Hi, this is lance\"}, which sets the inital grpah state dict.\n",
    "\n",
    "When invode is called, the graph starts execution from the START node.\n",
    "\n",
    "It progresses through the defined nodes(nodes_1, node_2, node_3) in order.\n",
    "\n",
    "The conditional edge will traverse from node 1 to node 2 or 3 using a 50/50 decision rule.\n",
    "\n",
    "Each node function receives the current state and returns a new value, which overrides the graph state.\n",
    "\n",
    "The execution continues untill it reaches the END node."
   ]
  },
  {
   "cell_type": "code",
   "execution_count": null,
   "id": "46dd9c30",
   "metadata": {},
   "outputs": [],
   "source": [
    "# I have changed the username"
   ]
  }
 ],
 "metadata": {
  "kernelspec": {
   "display_name": "venv",
   "language": "python",
   "name": "python3"
  },
  "language_info": {
   "codemirror_mode": {
    "name": "ipython",
    "version": 3
   },
   "file_extension": ".py",
   "mimetype": "text/x-python",
   "name": "python",
   "nbconvert_exporter": "python",
   "pygments_lexer": "ipython3",
   "version": "3.12.0"
  }
 },
 "nbformat": 4,
 "nbformat_minor": 5
}
