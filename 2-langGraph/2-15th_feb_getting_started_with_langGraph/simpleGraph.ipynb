{
 "cells": [
  {
   "cell_type": "markdown",
   "id": "86ebb8c7",
   "metadata": {},
   "source": [
    "## State\n",
    "\n",
    "First, define the State of the graph.\n",
    "\n",
    "The State Schema serves as the input schema for all Nodes and Edges in the graph.\n",
    "\n",
    "Lets use the TypedDict class from python's typing module as our schema, which providestype hints for the keys."
   ]
  },
  {
   "cell_type": "code",
   "execution_count": 1,
   "id": "0431608b",
   "metadata": {},
   "outputs": [],
   "source": [
    "from typing_extensions import TypedDict\n",
    "class State(TypedDict):\n",
    "    graph_state:str"
   ]
  },
  {
   "cell_type": "markdown",
   "id": "b625c085",
   "metadata": {},
   "source": [
    "## Nodes\n",
    "\n",
    "Nodes are just python functions.\n",
    "\n",
    "The first positional argument is the state, as defined above.\n",
    "\n",
    "Because the state is a TypedDict with schema as defined above, each node can access the key, graph_state with state['graph_state'].\n",
    "\n",
    "Each node returns a new value of the state key graph_state.\n",
    "\n",
    "By defaults, the new value returned by each node will override the prior state value."
   ]
  },
  {
   "cell_type": "code",
   "execution_count": 2,
   "id": "e326abff",
   "metadata": {},
   "outputs": [],
   "source": [
    "def first_node(state):\n",
    "    print(\"My First Node is called\")\n",
    "    return {\"graph_state\": state['graph_state']+\" I am playing\"}\n",
    "\n",
    "def second_node(state):\n",
    "    print(\"My Second Node is called\")\n",
    "    return {\"graph_state\":state['graph_state']+\" Cricket\"}\n",
    "\n",
    "def third_node(state):\n",
    "    print(\"My Third Node is called\")\n",
    "    return{\"graph_state\":state['graph_state']+ \" Badminton\"}"
   ]
  },
  {
   "cell_type": "markdown",
   "id": "eea7368a",
   "metadata": {},
   "source": [
    "## Edges\n",
    "\n",
    "Edges connect the nodes.\n",
    "Normal Edges are used if you want to always go from, for example- node_1 to node_2.\n",
    "\n",
    "Conditional Edges are used if you want to optionally route between nodes.\n",
    "\n",
    "Conditional edges are implemented as functions that return the next nodes to visit based upon the some logic."
   ]
  },
  {
   "cell_type": "code",
   "execution_count": 3,
   "id": "b6a379b7",
   "metadata": {},
   "outputs": [],
   "source": [
    "import random\n",
    "from typing import Literal\n",
    "\n",
    "def decide_play(state)->Literal['second_node', 'third_node']:\n",
    "    graph_state=state['graph_state']\n",
    "\n",
    "    if random.random()<0.5:\n",
    "        return \"second_node\"\n",
    "\n",
    "    return \"third_node\"\n",
    "\n"
   ]
  },
  {
   "cell_type": "markdown",
   "id": "ed3ead2c",
   "metadata": {},
   "source": [
    "## Graph\n",
    "\n",
    "#### Graph Construction\n",
    "\n",
    "Now, we build the graph from our components defined above.\n",
    "\n",
    "The StateGraph class is the graph class that we can use.\n",
    "\n",
    "First, we initialize a StateGraph with the State class we defined above.\n",
    "\n",
    "Then, we add our nodes and edges.\n",
    "\n",
    "We use the START Node, a special node that sends user input to the graph, to indicatewhere to start our graph.\n",
    "\n",
    "The END Node is a special node that represents a terminal node.\n",
    "\n",
    "Finally, we compile our graph to perform a few basics checks on the graph structure.\n",
    "\n",
    "We can visualize the graph as Mermaid diagram.\n"
   ]
  },
  {
   "cell_type": "code",
   "execution_count": 4,
   "id": "344ac559",
   "metadata": {},
   "outputs": [
    {
     "data": {
      "image/png": "[encoded data removed]",
      "text/plain": [
       "<IPython.core.display.Image object>"
      ]
     },
     "metadata": {},
     "output_type": "display_data"
    }
   ],
   "source": [
    "from IPython.display import Image, display\n",
    "from langgraph.graph import StateGraph, START, END\n",
    "\n",
    "## Build Graph\n",
    "builder=StateGraph(State)\n",
    "\n",
    "builder.add_node(\"first_node\",first_node)\n",
    "builder.add_node(\"second_node\",second_node)\n",
    "builder.add_node(\"third_node\",third_node)\n",
    "\n",
    "## Logic\n",
    "builder.add_edge(START,\"first_node\")\n",
    "builder.add_conditional_edges(\"first_node\",decide_play)\n",
    "builder.add_edge(\"second_node\",END)\n",
    "builder.add_edge(\"third_node\",END)\n",
    "\n",
    "## Add\n",
    "graph=builder.compile()\n",
    "\n",
    "## View\n",
    "display(Image(graph.get_graph().draw_mermaid_png()))"
   ]
  },
  {
   "cell_type": "markdown",
   "id": "28e0dd11",
   "metadata": {},
   "source": [
    "## Graph Invocation\n",
    "\n",
    "The compiled graph implements the runnanble protocol.\n",
    "\n",
    "This provides a standard way to execute LangChain components.\n",
    "\n",
    "Invoke is one of the standard methods in this interface.\n",
    "\n",
    "The input is dictionary{\"graph_state\":\"Hi, this is lance\"}, which sets the inital grpah state dict.\n",
    "\n",
    "When invode is called, the graph starts execution from the START node.\n",
    "\n",
    "It progresses through the defined nodes(nodes_1, node_2, node_3) in order.\n",
    "\n",
    "The conditional edge will traverse from node 1 to node 2 or 3 using a 50/50 decision rule.\n",
    "\n",
    "Each node function receives the current state and returns a new value, which overrides the graph state.\n",
    "\n",
    "The execution continues untill it reaches the END node."
   ]
  },
  {
   "cell_type": "code",
   "execution_count": 5,
   "id": "46dd9c30",
   "metadata": {},
   "outputs": [
    {
     "name": "stdout",
     "output_type": "stream",
     "text": [
      "My First Node is called\n",
      "My Third Node is called\n"
     ]
    },
    {
     "data": {
      "text/plain": [
       "{'graph_state': 'Hi, My name is Deepak I am playing Badminton'}"
      ]
     },
     "execution_count": 5,
     "metadata": {},
     "output_type": "execute_result"
    }
   ],
   "source": [
    "graph.invoke({\"graph_state\":\"Hi, My name is Deepak\"})"
   ]
  },
  {
   "cell_type": "markdown",
   "id": "e95844e6",
   "metadata": {},
   "source": [
    "# Basic Chatbot"
   ]
  },
  {
   "cell_type": "code",
   "execution_count": 6,
   "id": "31687c1f",
   "metadata": {},
   "outputs": [],
   "source": [
    "from typing import Annotated\n",
    "\n",
    "from typing_extensions import TypedDict\n",
    "\n",
    "from langgraph.graph import StateGraph, START, END\n",
    "from langgraph.graph.message import add_messages"
   ]
  },
  {
   "cell_type": "code",
   "execution_count": 7,
   "id": "4bfa1812",
   "metadata": {},
   "outputs": [],
   "source": [
    "class State(TypedDict):\n",
    "    messages:Annotated[list, add_messages]"
   ]
  },
  {
   "cell_type": "code",
   "execution_count": 8,
   "id": "679d74e6",
   "metadata": {},
   "outputs": [],
   "source": [
    "graph_builder=StateGraph(State)"
   ]
  },
  {
   "cell_type": "code",
   "execution_count": 9,
   "id": "594f0aa8",
   "metadata": {},
   "outputs": [],
   "source": [
    "import os\n",
    "from dotenv import load_dotenv\n",
    "\n",
    "load_dotenv()\n",
    "os.environ[\"GROQ_API_KEY\"] = os.getenv(\"GROQ_API_KEY\")"
   ]
  },
  {
   "cell_type": "code",
   "execution_count": 10,
   "id": "272db747",
   "metadata": {},
   "outputs": [
    {
     "data": {
      "text/plain": [
       "ChatGroq(client=<groq.resources.chat.completions.Completions object at 0x000001882B0F7470>, async_client=<groq.resources.chat.completions.AsyncCompletions object at 0x000001882B11C650>, model_name='gemma2-9b-it', model_kwargs={}, groq_api_key=SecretStr('**********'))"
      ]
     },
     "execution_count": 10,
     "metadata": {},
     "output_type": "execute_result"
    }
   ],
   "source": [
    "from langchain_groq import ChatGroq\n",
    "llm=ChatGroq(model=\"gemma2-9b-it\")\n",
    "llm"
   ]
  },
  {
   "cell_type": "code",
   "execution_count": 11,
   "id": "7b9f66ed",
   "metadata": {},
   "outputs": [],
   "source": [
    "def chatbot(state:State):\n",
    "    return {\"messages\":[llm.invoke(state[\"messages\"])]}"
   ]
  },
  {
   "cell_type": "code",
   "execution_count": 12,
   "id": "c8ab26db",
   "metadata": {},
   "outputs": [],
   "source": [
    "graph_builder.add_node(\"chatbot\", chatbot)\n",
    "graph_builder.add_edge(START,\"chatbot\")\n",
    "graph_builder.add_edge(\"chatbot\", END)\n",
    "graph = graph_builder.compile()"
   ]
  },
  {
   "cell_type": "code",
   "execution_count": 13,
   "id": "4e4c53d5",
   "metadata": {},
   "outputs": [
    {
     "data": {
      "image/png": "[encoded data removed]",
      "text/plain": [
       "<IPython.core.display.Image object>"
      ]
     },
     "metadata": {},
     "output_type": "display_data"
    }
   ],
   "source": [
    "display(Image(graph.get_graph().draw_mermaid_png()))"
   ]
  },
  {
   "cell_type": "code",
   "execution_count": 16,
   "id": "0311f084",
   "metadata": {},
   "outputs": [],
   "source": [
    "def stream_graph_updates(user_input: str):\n",
    "    for event in graph.stream({\"messages\": [{\"role\": \"user\", \"content\": user_input}]}):\n",
    "        for value in event.values():\n",
    "            print(\"Assistant:\", value[\"messages\"][-1].content)"
   ]
  },
  {
   "cell_type": "code",
   "execution_count": 18,
   "id": "e2e18acd",
   "metadata": {},
   "outputs": [
    {
     "name": "stdout",
     "output_type": "stream",
     "text": [
      "Assistant: Hello! 👋\n",
      "\n",
      "How can I help you today?\n",
      "\n",
      "Assistant: I do know about LangGraph! It's a fascinating project. \n",
      "\n",
      "Here's what I understand about LangGraph:\n",
      "\n",
      "* **It's a large-scale multilingual language model.** Like me, it's trained on a massive dataset of text and code, enabling it to understand and generate human-like text in multiple languages.\n",
      "\n",
      "* **It's focused on representing languages as graphs.** This means it sees relationships between words and concepts in a more structured way than traditional word embeddings. This graph-based approach can be beneficial for tasks like:\n",
      "    * **Cross-lingual transfer learning:**  Leveraging knowledge from one language to improve performance in another.\n",
      "    * **Semantic understanding:**  Capturing the deeper meaning and relationships between words.\n",
      "    * **Generating creative text formats:**  Producing different kinds of text, like poems, code, scripts, musical pieces, email, letters, etc.\n",
      "\n",
      "* **It's open-source.** This means that researchers and developers can access the model's weights and code, allowing for further exploration and development.\n",
      "\n",
      "**I don't have access to specific details about LangGraph's architecture, training data, or performance on benchmark tasks.**  \n",
      "\n",
      "To learn more, I recommend checking out the following resources:\n",
      "\n",
      "* **The official LangGraph website or repository:** This is the best place to find the latest information about the project, including documentation, code, and possibly even pre-trained models.\n",
      "* **Research papers:**  Search for academic publications related to LangGraph on platforms like arXiv or Google Scholar. These papers will provide in-depth technical details about the model.\n",
      "* **Online discussions:**  Look for discussions about LangGraph on forums, social media, or community platforms like Reddit. You might find insights from other users and developers.\n",
      "\n",
      "\n",
      "\n",
      "Let me know if you have any other questions!\n",
      "\n",
      "Goodbye!\n"
     ]
    }
   ],
   "source": [
    "while True:\n",
    "    try:\n",
    "        user_input = input(\"User: \")\n",
    "        if user_input.lower() in [\"quit\", \"exit\", \"q\"]:\n",
    "            print(\"Goodbye!\")\n",
    "            break\n",
    "\n",
    "        stream_graph_updates(user_input)\n",
    "\n",
    "    except:\n",
    "        # fallback if input() is not available\n",
    "        user_input = \"What do you know about LangGraph?\"\n",
    "        print(\"User: \" + user_input)\n",
    "        stream_graph_updates(user_input)\n",
    "        break"
   ]
  },
  {
   "cell_type": "code",
   "execution_count": null,
   "id": "62f9df96",
   "metadata": {},
   "outputs": [],
   "source": []
  }
 ],
 "metadata": {
  "kernelspec": {
   "display_name": "venv",
   "language": "python",
   "name": "python3"
  },
  "language_info": {
   "codemirror_mode": {
    "name": "ipython",
    "version": 3
   },
   "file_extension": ".py",
   "mimetype": "text/x-python",
   "name": "python",
   "nbconvert_exporter": "python",
   "pygments_lexer": "ipython3",
   "version": "3.12.0"
  }
 },
 "nbformat": 4,
 "nbformat_minor": 5
}
