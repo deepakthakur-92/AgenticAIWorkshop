{
 "cells": [
  {
   "cell_type": "markdown",
   "id": "9e0b1819",
   "metadata": {},
   "source": [
    "In the previous router, we invoked the model and, if it chose to call a tool, we returned a ToolMessage to the user.\n",
    "\n",
    "But, what if we simply pass that ToolMessage back to the model?\n",
    "\n",
    "We can let it either (1) call another tool or (2) respond directly.\n",
    "\n",
    "This is the intuition behind ReAct, ageneral agent architecture.\n",
    "\n",
    "act - let the model call specific tools \n",
    "\n",
    "observe - pass the tool output back to the model \n",
    "\n",
    "reason - let the model reason about the tool output to decide what \n",
    "to do next(e.g., call another tool or just respond directly)"
   ]
  },
  {
   "cell_type": "code",
   "execution_count": 2,
   "id": "03a191ff",
   "metadata": {},
   "outputs": [],
   "source": [
    "import os\n",
    "from dotenv import load_dotenv\n",
    "load_dotenv()\n",
    "\n",
    "os.environ[\"GROQ_API_KEY\"] = os.getenv(\"GROQ_API_KEY\")\n"
   ]
  },
  {
   "cell_type": "code",
   "execution_count": null,
   "id": "16503da0",
   "metadata": {},
   "outputs": [],
   "source": [
    "from langchain_openai import ChatOpenAI\n",
    "\n",
    "def multiply(a: int, b:int) -> int:\n",
    "\n",
    "    "
   ]
  }
 ],
 "metadata": {
  "kernelspec": {
   "display_name": "venv",
   "language": "python",
   "name": "python3"
  },
  "language_info": {
   "codemirror_mode": {
    "name": "ipython",
    "version": 3
   },
   "file_extension": ".py",
   "mimetype": "text/x-python",
   "name": "python",
   "nbconvert_exporter": "python",
   "pygments_lexer": "ipython3",
   "version": "3.12.0"
  }
 },
 "nbformat": 4,
 "nbformat_minor": 5
}
