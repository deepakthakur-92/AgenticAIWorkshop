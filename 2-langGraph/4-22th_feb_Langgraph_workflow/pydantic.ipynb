{
 "cells": [
  {
   "cell_type": "markdown",
   "id": "9e3996f5",
   "metadata": {},
   "source": [
    "### Pydantic Example\n"
   ]
  },
  {
   "cell_type": "code",
   "execution_count": 1,
   "id": "c47a645d",
   "metadata": {},
   "outputs": [],
   "source": [
    "from typing_extensions import TypedDict\n",
    "\n",
    "class State(TypedDict):\n",
    "    xyz: str\n",
    "    abc: str"
   ]
  },
  {
   "cell_type": "code",
   "execution_count": 3,
   "id": "b93e4d04",
   "metadata": {},
   "outputs": [],
   "source": [
    "from langgraph.graph import StateGraph, START, END\n",
    "from typing_extensions import TypedDict\n",
    "\n",
    "from pydantic import BaseModel\n",
    "\n",
    "# The overall state of the graph (this is the public state shared across nodes)\n",
    "class OverallState(BaseModel):\n",
    "    a: str\n",
    "\n",
    "def node(state:OverallState):\n",
    "    return {\"a\":\"Hi I am Deepak\"}"
   ]
  },
  {
   "cell_type": "code",
   "execution_count": 4,
   "id": "7977667c",
   "metadata": {},
   "outputs": [],
   "source": [
    "# Build the state graph\n",
    "builder = StateGraph(OverallState)\n",
    "builder.add_node(node) # node_1 is the first node\n",
    "builder.add_edge(START, 'node') # start the graph woth node_1\n",
    "builder.add_edge(\"node\", END) # End the graph after node_1\n",
    "graph = builder.compile()"
   ]
  },
  {
   "cell_type": "code",
   "execution_count": 5,
   "id": "3b067448",
   "metadata": {},
   "outputs": [
    {
     "data": {
      "text/plain": [
       "{'a': 'Hi I am Deepak'}"
      ]
     },
     "execution_count": 5,
     "metadata": {},
     "output_type": "execute_result"
    }
   ],
   "source": [
    "graph.invoke({'a': 'Hello'})"
   ]
  },
  {
   "cell_type": "code",
   "execution_count": null,
   "id": "a27070cb",
   "metadata": {},
   "outputs": [],
   "source": []
  }
 ],
 "metadata": {
  "kernelspec": {
   "display_name": "venv",
   "language": "python",
   "name": "python3"
  },
  "language_info": {
   "codemirror_mode": {
    "name": "ipython",
    "version": 3
   },
   "file_extension": ".py",
   "mimetype": "text/x-python",
   "name": "python",
   "nbconvert_exporter": "python",
   "pygments_lexer": "ipython3",
   "version": "3.12.0"
  }
 },
 "nbformat": 4,
 "nbformat_minor": 5
}
