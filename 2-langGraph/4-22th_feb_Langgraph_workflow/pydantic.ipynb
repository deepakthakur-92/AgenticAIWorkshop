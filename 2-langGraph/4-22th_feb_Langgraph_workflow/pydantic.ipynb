{
 "cells": [
  {
   "cell_type": "markdown",
   "id": "9e3996f5",
   "metadata": {},
   "source": [
    "### Pydantic Example\n"
   ]
  },
  {
   "cell_type": "code",
   "execution_count": 1,
   "id": "c47a645d",
   "metadata": {},
   "outputs": [],
   "source": [
    "from typing_extensions import TypedDict\n",
    "\n",
    "class State(TypedDict):\n",
    "    xyz: str\n",
    "    abc: str"
   ]
  },
  {
   "cell_type": "code",
   "execution_count": 17,
   "id": "b93e4d04",
   "metadata": {},
   "outputs": [],
   "source": [
    "from langgraph.graph import StateGraph, START, END\n",
    "from typing_extensions import TypedDict\n",
    "\n",
    "from pydantic import BaseModel, StrictStr\n",
    "\n",
    "\n",
    "# The overall state of the graph (this is the public state shared across nodes)\n",
    "class OverallState(BaseModel):\n",
    "    a: StrictStr\n",
    "\n",
    "def node(state:OverallState):\n",
    "    return {\"a\":\"Hi I am Deepak\"}"
   ]
  },
  {
   "cell_type": "code",
   "execution_count": 18,
   "id": "7977667c",
   "metadata": {},
   "outputs": [],
   "source": [
    "# Build the state graph\n",
    "builder = StateGraph(OverallState)\n",
    "builder.add_node(node)  # node_1 is the first node\n",
    "builder.add_edge(START, \"node\")  # Start the graph with node_1\n",
    "builder.add_edge(\"node\", END)  # End the graph after node_1\n",
    "graph = builder.compile()"
   ]
  },
  {
   "cell_type": "code",
   "execution_count": 19,
   "id": "3b067448",
   "metadata": {},
   "outputs": [
    {
     "data": {
      "text/plain": [
       "{'a': 'Hi I am Deepak'}"
      ]
     },
     "execution_count": 19,
     "metadata": {},
     "output_type": "execute_result"
    }
   ],
   "source": [
    "graph.invoke({'a': 'Hello'})"
   ]
  },
  {
   "cell_type": "code",
   "execution_count": 20,
   "id": "a27070cb",
   "metadata": {},
   "outputs": [],
   "source": [
    "try:\n",
    "    graph.invoke({\"a\":123}) # should be a string\n",
    "except Exception as e:\n",
    "    print(\"Exception was raised because a value is integer\")"
   ]
  },
  {
   "cell_type": "code",
   "execution_count": 21,
   "id": "f258e6af",
   "metadata": {},
   "outputs": [
    {
     "data": {
      "text/plain": [
       "{'a': 'Hi I am Deepak'}"
      ]
     },
     "execution_count": 21,
     "metadata": {},
     "output_type": "execute_result"
    }
   ],
   "source": [
    "graph.invoke({'a':123})"
   ]
  },
  {
   "cell_type": "markdown",
   "id": "d9033a74",
   "metadata": {},
   "source": [
    "### Multiple Nodes - Run time validation\n",
    "\n",
    "Run-time validation will also work in a multi-node graph. In the example below bad_node updates a to an integer.\n",
    "\n",
    "Because run-time validation occurs on inputs, the validation error will occur when ok_node is called(not when bad_node returns an update to the state which is in consistent with the schema)."
   ]
  },
  {
   "cell_type": "code",
   "execution_count": 22,
   "id": "b0cda62b",
   "metadata": {},
   "outputs": [],
   "source": [
    "from langgraph.graph import StateGraph, START, END\n",
    "from typing_extensions import TypedDict\n",
    "\n",
    "from pydantic import BaseModel\n",
    "\n",
    "class OverallState(BaseModel):\n",
    "    a:str\n",
    "\n",
    "def bad_node(state:OverallState):\n",
    "    return{\n",
    "        'a':123 # Invalid\n",
    "    }\n",
    "\n",
    "def ok_node(state:OverallState):\n",
    "    return {'a':'goodbye'}\n",
    "\n",
    "# Build the state graph\n",
    "builder = StateGraph(OverallState)\n",
    "builder.add_node(bad_node)\n",
    "builder.add_node(ok_node)\n",
    "builder.add_edge(START, 'bad_node')\n",
    "builder.add_edge('bad_node', 'ok_node')\n",
    "builder.add_edge('ok_node', END)\n",
    "graph = builder.compile()"
   ]
  },
  {
   "cell_type": "code",
   "execution_count": 28,
   "id": "29f50bf7",
   "metadata": {},
   "outputs": [],
   "source": [
    "# Test the graph with a valid input\n",
    "try:\n",
    "    graph.invoke({'a':123.00})\n",
    "except Excpetion as e:\n",
    "    print(\"An exception was raised because bad_node sets 'a' to an integer.\")\n",
    "    print(e)"
   ]
  },
  {
   "cell_type": "code",
   "execution_count": 27,
   "id": "cf5a2d10",
   "metadata": {},
   "outputs": [
    {
     "data": {
      "text/plain": [
       "{'a': 'goodbye'}"
      ]
     },
     "execution_count": 27,
     "metadata": {},
     "output_type": "execute_result"
    }
   ],
   "source": [
    "graph.invoke({'a':'Deepak'})"
   ]
  },
  {
   "cell_type": "markdown",
   "id": "137cbe61",
   "metadata": {},
   "source": [
    "### Prompt Chaining\n",
    "\n",
    "Prompt chaining decomposes a task into sequence of steps, where each LLM call processes the output of the previous one. You can add programmatic checks on any intermediate steps to ensure that the process is still on track.\n",
    "\n",
    "When to use this workflow: This workflow is ideal for situations where the task can be easily and clearly decomposed into fixed subtasks. The main goal is to trade off latency for higher accuracy, by making each LLM call an easier task."
   ]
  },
  {
   "cell_type": "code",
   "execution_count": 30,
   "id": "676db1f7",
   "metadata": {},
   "outputs": [
    {
     "data": {
      "text/plain": [
       "AIMessage(content=\"Hello! It's nice to meet you. Is there something I can help you with, or would you like to chat?\", additional_kwargs={}, response_metadata={'token_usage': {'completion_tokens': 26, 'prompt_tokens': 11, 'total_tokens': 37, 'completion_time': 0.074285714, 'prompt_time': 0.000128439, 'queue_time': 0.052475100999999996, 'total_time': 0.074414153}, 'model_name': 'llama3-70b-8192', 'system_fingerprint': 'fp_dd4ae1c591', 'finish_reason': 'stop', 'logprobs': None}, id='run-3af366ae-a301-43b5-a113-f1b8a14926bf-0', usage_metadata={'input_tokens': 11, 'output_tokens': 26, 'total_tokens': 37})"
      ]
     },
     "execution_count": 30,
     "metadata": {},
     "output_type": "execute_result"
    }
   ],
   "source": [
    "import os \n",
    "from dotenv import load_dotenv\n",
    "load_dotenv()\n",
    "\n",
    "from langchain_groq import ChatGroq\n",
    "\n",
    "os.environ['GROQ_API_KEY'] = os.getenv('GROQ_API_KEY')\n",
    "\n",
    "llm = ChatGroq(model='llama3-70b-8192')\n",
    "result = llm.invoke('Hello')\n",
    "result\n"
   ]
  },
  {
   "cell_type": "code",
   "execution_count": 32,
   "id": "cd39b22e",
   "metadata": {},
   "outputs": [],
   "source": [
    "from typing_extensions import TypedDict\n",
    "from langgraph.graph import StateGraph, START, END\n",
    "from IPython.display import Image, display\n",
    "\n",
    "# Graph state\n",
    "class State(TypedDict):\n",
    "    topic: str\n",
    "    joke: str\n",
    "    improved_joke: str\n",
    "    final_joke: str\n"
   ]
  },
  {
   "cell_type": "code",
   "execution_count": 39,
   "id": "75ef25fb",
   "metadata": {},
   "outputs": [],
   "source": [
    "# Nodes\n",
    "def generate_joke(state: State):\n",
    "    \"\"\"First LLM call to generate initial joke\"\"\"\n",
    "\n",
    "    msg = llm.invoke(f\"Write a short joke about {state['topic']}\")\n",
    "    return {\"joke\": msg.content}\n",
    "\n",
    "def check_punchline(state: State):\n",
    "    \"\"\"Gate function to check if the joke has a punchline\"\"\"\n",
    "\n",
    "    # Simple check - does the joke contain \"?\" or \"!\"\n",
    "    if \"?\" in state[\"joke\"] or \"!\" in state[\"joke\"]:\n",
    "        return \"Fail\"\n",
    "    return \"Pass\"\n",
    "\n",
    "def improve_joke(state: State):\n",
    "    \"\"\"Second LLM call to improve the joke\"\"\"\n",
    "\n",
    "    msg = llm.invoke(f\"Make this joke funnier by adding wordplay: {state['joke']}\")\n",
    "    return {\"improved_joke\": msg.content}\n",
    "\n",
    "def polish_joke(state: State):\n",
    "    \"\"\"Third LLM call for final polish\"\"\"\n",
    "\n",
    "    msg = llm.invoke(f\"Add a surprising twist to this joke: {state['improved_joke']}\")\n",
    "    return {\"final_joke\": msg.content}\n",
    "\n"
   ]
  },
  {
   "cell_type": "code",
   "execution_count": 40,
   "id": "013cebe4",
   "metadata": {},
   "outputs": [
    {
     "data": {
      "image/png": "[encoded data removed]",
      "text/plain": [
       "<IPython.core.display.Image object>"
      ]
     },
     "metadata": {},
     "output_type": "display_data"
    }
   ],
   "source": [
    "# Build workflow\n",
    "workflow = StateGraph(State)\n",
    "\n",
    "# Add nodes\n",
    "workflow.add_node(\"generate_joke\", generate_joke)\n",
    "workflow.add_node(\"improve_joke\", improve_joke)\n",
    "workflow.add_node(\"polish_joke\", polish_joke)\n",
    "\n",
    "# Add edges to connect nodes\n",
    "workflow.add_edge(START, \"generate_joke\")\n",
    "workflow.add_conditional_edges(\"generate_joke\",check_punchline,{\"Fail\":\"improve_joke\",\"Pass\":END})\n",
    "workflow.add_edge(\"improve_joke\", \"polish_joke\")\n",
    "workflow.add_edge(\"polish_joke\", END)\n",
    "\n",
    "# Compile\n",
    "chain = workflow.compile()\n",
    "\n",
    "# Show workflow\n",
    "display(Image(chain.get_graph().draw_mermaid_png()))\n",
    "\n"
   ]
  },
  {
   "cell_type": "code",
   "execution_count": 43,
   "id": "9c7fb077",
   "metadata": {},
   "outputs": [],
   "source": [
    "state = chain.invoke({\"topic\": \"baby\"})"
   ]
  },
  {
   "cell_type": "code",
   "execution_count": 44,
   "id": "eadad3c2",
   "metadata": {},
   "outputs": [
    {
     "data": {
      "text/plain": [
       "{'topic': 'baby',\n",
       " 'joke': 'Why did the baby\\'s first word was \"mama\"?\\n\\nBecause it was the only word that came with a warranty!',\n",
       " 'improved_joke': 'Here\\'s a revised version with some added wordplay:\\n\\nWhy did the baby\\'s first word have to be \"mama\"?\\n\\nBecause it was the only word that came with a mom-umental warranty, and the little one wanted to ensure they had a parent-al guarantee of love and care!',\n",
       " 'final_joke': 'Here\\'s a revised version with a surprising twist:\\n\\nWhy did the baby\\'s first word have to be \"mama\"?\\n\\nBecause it was the only word that came with a mom-umental warranty, and the little one wanted to ensure they had a parent-al guarantee of love and care... but little did they know, the warranty was issued by a secret society of ninja moms, and the \"care\" clause included stealth training and a lifetime supply of ninja diapers!'}"
      ]
     },
     "execution_count": 44,
     "metadata": {},
     "output_type": "execute_result"
    }
   ],
   "source": [
    "state"
   ]
  },
  {
   "cell_type": "code",
   "execution_count": 46,
   "id": "685b1f86",
   "metadata": {},
   "outputs": [
    {
     "data": {
      "text/plain": [
       "'Here\\'s a revised version with some added wordplay:\\n\\nWhy did the baby\\'s first word have to be \"mama\"?\\n\\nBecause it was the only word that came with a mom-umental warranty, and the little one wanted to ensure they had a parent-al guarantee of love and care!'"
      ]
     },
     "execution_count": 46,
     "metadata": {},
     "output_type": "execute_result"
    }
   ],
   "source": [
    "state['improved_joke']"
   ]
  },
  {
   "cell_type": "code",
   "execution_count": 47,
   "id": "942d883c",
   "metadata": {},
   "outputs": [
    {
     "data": {
      "text/plain": [
       "'Here\\'s a revised version with a surprising twist:\\n\\nWhy did the baby\\'s first word have to be \"mama\"?\\n\\nBecause it was the only word that came with a mom-umental warranty, and the little one wanted to ensure they had a parent-al guarantee of love and care... but little did they know, the warranty was issued by a secret society of ninja moms, and the \"care\" clause included stealth training and a lifetime supply of ninja diapers!'"
      ]
     },
     "execution_count": 47,
     "metadata": {},
     "output_type": "execute_result"
    }
   ],
   "source": [
    "state['final_joke']"
   ]
  },
  {
   "cell_type": "markdown",
   "id": "ca21f684",
   "metadata": {},
   "source": [
    "### Parallelization\n",
    "\n",
    "With parallelization, LLMs work simultaneously on a task:\n",
    "\n",
    "LLMs can sometimes work simultaneously on a task and have their outputs aggregated programmatically. This workflow, parallelization, manifests in two key variations:-\n",
    "\n",
    "Sectioning: Breaking a task into independent subtask run in parallel.\n",
    "\n",
    "Voting: Running the same task multiple times to get diverse outputs.\n",
    "\n",
    "When to use this workflow: Paralleleization is effective when the divided subtasks can be parrallelized for speed, or when multiple perspectives or attempts are needed for higher confidence results. For complex tasks with multiple considerations, LLMs generally perform better when each consideration is handled by the seperate LLM call, allowing focused attention on each specific aspect."
   ]
  },
  {
   "cell_type": "code",
   "execution_count": 50,
   "id": "a814dd77",
   "metadata": {},
   "outputs": [
    {
     "data": {
      "image/png": "[encoded data removed]",
      "text/plain": [
       "<IPython.core.display.Image object>"
      ]
     },
     "metadata": {},
     "output_type": "display_data"
    },
    {
     "name": "stdout",
     "output_type": "stream",
     "text": [
      "Here's a story, joke, and poem about cats!\n",
      "\n",
      "STORY: \n",
      "**Whisker Tales**\n",
      "\n",
      "In the sleepy town of Felinia, where sunbeams danced through the windows and catnip grew wild, a mystical realm thrived. Here, cats ruled supreme, their whims and fancies governing the world. A magical council, comprised of nine wise felines, governed the land, ensuring harmony and balance among all creatures.\n",
      "\n",
      "Our tale begins with a curious, mischievous calico named Luna. Born with a spark of mischief in her eye, Luna loved to explore the hidden corners of Felinia. One day, while prowling through the Whispering Walls, a labyrinthine alleyway lined with ancient stones, she stumbled upon an enchanted artifact – the Golden Whisker of Fate.\n",
      "\n",
      "Legend whispered that this whisker, forged from the essence of the first cat, held the power to shape destiny. Luna, intrigued by the whispers, decided to investigate further. As she grasped the whisker, a sudden, blinding flash illuminated the alley. When the light faded, Luna discovered herself transformed into a magnificent creature: the Guardian of Whiskers.\n",
      "\n",
      "With her newfound powers, Luna set out to maintain balance in Felinia. Her first mission was to settle a dispute between two rival cat clans: the regal, majestic Siamese and the cunning, agile Abyssinians. For generations, the two clans had vied for dominance, causing tension throughout the land.\n",
      "\n",
      "Luna, donning her Golden Whisker, convened a grand council in the Heartwood Tree, a sacred gathering place where ancient cat wisdom dwelled. She summoned the leaders of both clans, wise old Rama, the Siamese patriarch, and cunning Astra, the Abyssinian matriarch.\n",
      "\n",
      "With the Golden Whisker's guidance, Luna mediated the dispute, revealing the hidden strengths and weaknesses of each clan. Rama's diplomatic prowess and Astra's cunning strategic mind were key to resolving the conflict. Through Luna's guidance, the two leaders forged an alliance, cementing a lasting peace.\n",
      "\n",
      "As news of Luna's heroism spread, the mystical council recognized her as a worthy member, elevating her to the esteemed position of Whisker Ambassador. With her Golden Whisker of Fate, Luna continued to maintain harmony in Felinia, ensuring that the delicate balance of power remained intact.\n",
      "\n",
      "In time, Luna's legend grew, inspiring generations of cats to strive for wisdom, courage, and diplomacy. Her Whisker Tales, a testament to the transformative power of friendship and cooperation, were etched into the annals of Felinia's history, forever reminding cats that even the smallest spark can ignite a beacon of hope and unity.**\n",
      "\n",
      "Would you like me to continue the story or explore a different tale?\n",
      "\n",
      "JOKE: \n",
      "Why did the cat join a band?\n",
      "\n",
      "Because it wanted to be the purr-cussionist!\n",
      "\n",
      "POEM:\n",
      "Whispers in the moon's pale light,\n",
      "Eyes like lanterns, shining bright.\n",
      "Their velvet paws, a gentle sway,\n",
      "As they prowl through the night's gray way.\n",
      "\n",
      "Their fur, a soft and silky stream,\n",
      "That flows like honey, warm and dream.\n",
      "Their little noses, pink and fine,\n",
      "Twitching with each subtle scent divine.\n",
      "\n",
      "Their playful pounces, full of glee,\n",
      "Their little meows, a sweet melody.\n",
      "Their cuddles, warm, and sweet as love,\n",
      "A treasure trove, sent from above.\n",
      "\n",
      "Oh, cats, you rule our hearts, it's true,\n",
      "With your independence, and your \"mews\" anew.\n",
      "You bring us joy, and comfort too,\n",
      "A gentle companionship, forever true.\n",
      "\n",
      "So here's to you, our feline friends,\n",
      ",\n",
      "A poem, penned, till the very end.\n",
      "For you, dear cats, are a precious find,\n",
      "A treasure, one of a kind.\n"
     ]
    }
   ],
   "source": [
    "# Graph state\n",
    "class State(TypedDict):\n",
    "    topic:str\n",
    "    joke:str\n",
    "    story:str\n",
    "    poem:str\n",
    "    combined_output:str\n",
    "\n",
    "\n",
    "# Nodes\n",
    "def call_llm_1(state: State):\n",
    "    \"\"\"First LLM call to generate initial joke\"\"\"\n",
    "\n",
    "    msg = llm.invoke(f\"Write a joke about {state['topic']}\")\n",
    "    return {\"joke\": msg.content}\n",
    "\n",
    "def call_llm_2(state:State):\n",
    "    \"\"\"Second LLM call to generate story\"\"\"\n",
    "\n",
    "    msg = llm.invoke(f\"Write a astory about {state['topic']}\")\n",
    "    return {\"story\": msg.content}\n",
    "\n",
    "def call_llm_3(state: State):\n",
    "    \"\"\"Third LLM call to generate poem\"\"\"\n",
    "\n",
    "    msg = llm.invoke(f\"Write a poem about {state['topic']}\")\n",
    "    return {\"poem\": msg.content}\n",
    "\n",
    "def aggregator(state: State):\n",
    "    \"\"\"Combine the joke, story and poem into a single output\"\"\"\n",
    "\n",
    "    combined = f\"Here's a story, joke, and poem about {state['topic']}!\\n\\n\"\n",
    "    combined += f\"STORY: \\n{state['story']}\\n\\n\"\n",
    "    combined += f\"JOKE: \\n{state['joke']}\\n\\n\"\n",
    "    combined += f\"POEM:\\n{state['poem']}\"\n",
    "    return {\"combined_output\": combined}\n",
    "\n",
    "# Build workflow\n",
    "parallel_builder = StateGraph(State)\n",
    "\n",
    "# Add nodes\n",
    "parallel_builder.add_node(\"call_llm_1\", call_llm_1)\n",
    "parallel_builder.add_node(\"call_llm_2\", call_llm_2)\n",
    "parallel_builder.add_node(\"call_llm_3\", call_llm_3)\n",
    "parallel_builder.add_node(\"aggregator\", aggregator)\n",
    "\n",
    "# Add edges to connect nodes\n",
    "parallel_builder.add_edge(START, \"call_llm_1\")\n",
    "parallel_builder.add_edge(START, \"call_llm_2\")\n",
    "parallel_builder.add_edge(START, \"call_llm_3\")\n",
    "parallel_builder.add_edge(\"call_llm_1\", \"aggregator\")\n",
    "parallel_builder.add_edge(\"call_llm_2\", \"aggregator\")\n",
    "parallel_builder.add_edge(\"call_llm_3\", \"aggregator\")\n",
    "parallel_builder.add_edge(\"aggregator\", END)\n",
    "parallel_workflow = parallel_builder.compile()\n",
    "\n",
    "# Show workflow\n",
    "display(Image(parallel_workflow.get_graph().draw_mermaid_png()))\n",
    "\n",
    "state = parallel_workflow.invoke({\"topic\": \"cats\"})\n",
    "print(state[\"combined_output\"])"
   ]
  },
  {
   "cell_type": "markdown",
   "id": "6a88bd00",
   "metadata": {},
   "source": [
    "### Routing\n",
    "\n",
    "Routing classifies an input and directs it to a specialized followup task. This workflow allows for seperation of concerns, and building more specialized prompts. Without this workflow, optimizing for one kind of input can hurt performance on other inputs.\n",
    "\n",
    "When to use this workflow: Routing works well for complex tasks where there are distinct categories that are better handled separately, and where classification can be handled accurately, either by an LLM or a more traditional classification model/algorithm."
   ]
  },
  {
   "cell_type": "code",
   "execution_count": 59,
   "id": "4dcba783",
   "metadata": {},
   "outputs": [
    {
     "data": {
      "image/png": "[encoded data removed]",
      "text/plain": [
       "<IPython.core.display.Image object>"
      ]
     },
     "metadata": {},
     "output_type": "display_data"
    }
   ],
   "source": [
    "from typing_extensions import Literal\n",
    "from pydantic import BaseModel, Field\n",
    "from langchain_core.messages import HumanMessage, SystemMessage\n",
    "\n",
    "# Schema for structure output to use as routing logic\n",
    "class Route(BaseModel):\n",
    "    step: Literal[\"poem\", \"story\", \"joke\"] = Field(None, description=\"The next step in the routing process\")\n",
    "\n",
    "# Augment the LLM with schema for structured output\n",
    "router = llm.with_structured_output(Route)\n",
    "\n",
    "# State\n",
    "class State(TypedDict):\n",
    "    input: str\n",
    "    decision: str\n",
    "    output: str\n",
    "\n",
    "# Nodes\n",
    "def llm_call_1(state: State):\n",
    "    \"\"\"Write a story\"\"\"\n",
    "\n",
    "    result = llm.invoke(state[\"input\"])\n",
    "    return {\"output\": result.content}\n",
    "\n",
    "def llm_call_2(state: State):\n",
    "    \"\"\"Write a joke\"\"\"\n",
    "\n",
    "    print(\"LLM call 2 is called\")\n",
    "    result = llm.invoke(state[\"input\"])\n",
    "    return {\"output\": result.content}\n",
    "\n",
    "def llm_call_3(state: State):\n",
    "    \"\"\"Write a poem\"\"\"\n",
    "\n",
    "    result = llm.invoke(state[\"input\"])\n",
    "    return {\"output\": result.content}\n",
    "\n",
    "def llm_call_router(state: State):\n",
    "    \"\"\"Route the input to the appropriate node\"\"\"\n",
    "\n",
    "    # Run the augmented LLM with structured output to serve as routing logic\n",
    "    decision = router.invoke(\n",
    "        [\n",
    "            SystemMessage(\n",
    "                content=\"Route the input to story, joke, or poem based on the user's request.\"\n",
    "            ),\n",
    "            HumanMessage(content=state[\"input\"]),\n",
    "        ]\n",
    "    )\n",
    "\n",
    "    return {\"decision\": decision.step}\n",
    "\n",
    "# Conditional edge function to route to the appropriate node\n",
    "def route_decision(state:State):\n",
    "    # Return the node name you want to visit next\n",
    "    if state['decision'] == \"story\":\n",
    "        return 'llm_call_1'\n",
    "    elif state['decision'] == 'joke':\n",
    "        return 'llm_call_2'\n",
    "    elif state['decision'] == 'poem':\n",
    "        return \"llm_call_3\"\n",
    "\n",
    "# Build workflow\n",
    "router_builder = StateGraph(State)\n",
    "\n",
    "# Add nodes\n",
    "router_builder.add_node(\"llm_call_1\", llm_call_1)\n",
    "router_builder.add_node(\"llm_call_2\", llm_call_2)\n",
    "router_builder.add_node(\"llm_call_3\", llm_call_3)\n",
    "router_builder.add_node(\"llm_call_router\", llm_call_router)\n",
    "\n",
    "# Add edges to connect nodes\n",
    "router_builder. add_edge(START, \"llm_call_router\")\n",
    "router_builder.add_conditional_edges(\n",
    "    \"llm_call_router\",\n",
    "    route_decision,\n",
    "    { # Name returned by route_decision : Name of the next node to visit\n",
    "        \"llm_call_1\": \"llm_call_1\",\n",
    "        \"llm_call_2\": \"llm_call_2\",\n",
    "        \"llm_call_3\": \"llm_call_3\",        \n",
    "    },\n",
    ")\n",
    "\n",
    "router_builder.add_edge(\"llm_call_1\", END)\n",
    "router_builder.add_edge(\"llm_call_2\", END)\n",
    "router_builder.add_edge(\"llm_call_3\", END)\n",
    "\n",
    "# Compile workflow\n",
    "router_workflow = router_builder.compile()\n",
    "\n",
    "# Show the workflow\n",
    "display(Image(router_workflow.get_graph().draw_mermaid_png()))\n",
    "\n"
   ]
  },
  {
   "cell_type": "code",
   "execution_count": 60,
   "id": "a5921823",
   "metadata": {},
   "outputs": [
    {
     "name": "stdout",
     "output_type": "stream",
     "text": [
      "Once upon a time, in a small village nestled in the rolling hills of the countryside, there lived a community of cats. These cats were no ordinary felines, for they possessed a deep understanding of the mystical forces that governed the universe.\n",
      "\n",
      "At the heart of the village stood an ancient, gnarled tree, its branches twisted and tangled in a way that seemed almost deliberate. This tree was the sacred center of the cats' world, for it was said that the ancient ones had planted it with their own paws, imbuing it with their collective wisdom and magic.\n",
      "\n",
      "The leader of the cats was a majestic creature named Astra. Her fur was as white as the stars on a clear night, and her eyes shone like sapphires in the sunlight. Astra possessed the greatest understanding of the mystical forces, and it was she who communicated with the ancient ones, seeking guidance and wisdom for her people.\n",
      "\n",
      "One day, a young cat named Lyra approached Astra with a curious question. \"Why do we, as cats, possess such extraordinary abilities?\" she asked. \"Why can we see in the dark, and sense the presence of invisible creatures?\"\n",
      "\n",
      "Astra gazed at Lyra, her eyes twinkling with amusement. \"Come, little one,\" she said. \"Let me tell you the story of our ancestors.\"\n",
      "\n",
      "Long ago, the cats had lived in harmony with the ancient ones, who possessed incredible powers over the natural world. The cats had watched and learned from these beings, and as they did, they began to develop their own unique abilities.\n",
      "\n",
      "As the ancient ones began to fade from the world, they imparted their wisdom and magic to the cats. They gifted them with the ability to see in the dark, to sense the presence of invisible creatures, and to manipulate the threads of fate.\n",
      "\n",
      "\"But there is more to our story,\" Astra continued. \"For as the ancient ones departed, they left behind a powerful artifact – the Celestial Collar. This collar holds the essence of their magic, and it is said that whoever wears it will possess unimaginable power.\"\n",
      "\n",
      "Lyra's eyes grew wide with wonder. \"Where is the Celestial Collar?\" she asked.\n",
      "\n",
      "Astra's expression turned serious. \"The collar is hidden, guarded by powerful creatures who seek to keep its magic for themselves. But I sense that the time has come for us to reclaim it. Lyra, you have shown great curiosity and bravery. I charge you with the Celestial Collar's retrieval.\"\n",
      "\n",
      "And so, Lyra set out on her epic quest, accompanied by a small band of skilled warriors. Together, they braved treacherous landscapes, battled formidable foes, and solved ancient mysteries.\n",
      "\n",
      "At last, they reached the hidden temple where the Celestial Collar lay. Lyra, with a fierce determination in her heart, claimed the collar and felt its incredible power surge through her veins.\n",
      "\n",
      "As she returned to the village, the cats gathered around her, awed by the radiant aura that surrounded her. Astra approached Lyra, a proud smile on her face.\n",
      "\n",
      "\"You have fulfilled your destiny, Lyra,\" she said. \"With the Celestial Collar, our people will flourish, and our magic will grow stronger than ever before.\"\n",
      "\n",
      "And so, Lyra wore the Celestial Collar, guiding her people with wisdom and protecting them from harm. The cats lived in harmony, their mystical abilities flourishing, and their legend grew, inspiring generations to come.\n",
      "\n",
      "The story of Lyra and the Celestial Collar, became a beacon of hope, reminding the cats of their incredible heritage and the magic that lay within them. As the sun set over the village, the cats looked up at the stars, knowing that they were connected to something greater, something mystical, and something truly feline.\n"
     ]
    }
   ],
   "source": [
    "# Invoke\n",
    "state = router_workflow.invoke({\"input\": \"Write me a story about cats\"})\n",
    "print(state[\"output\"])"
   ]
  },
  {
   "cell_type": "code",
   "execution_count": 61,
   "id": "1e288b5e",
   "metadata": {},
   "outputs": [
    {
     "name": "stdout",
     "output_type": "stream",
     "text": [
      "LLM call 2 is called\n",
      "Why did the cat join a band?\n",
      "\n",
      "Because it wanted to be the purr-cussionist!\n"
     ]
    }
   ],
   "source": [
    "# Invoke\n",
    "state = router_workflow.invoke({\"input\": \"Write me a joke about cats\"})\n",
    "print(state[\"output\"])"
   ]
  },
  {
   "cell_type": "code",
   "execution_count": 62,
   "id": "4aadf4ac",
   "metadata": {},
   "outputs": [
    {
     "name": "stdout",
     "output_type": "stream",
     "text": [
      "Whiskers twitch, ears so fine,\n",
      "Moonbeams dance, eyes divine.\n",
      "Furry shadows, silent creep,\n",
      "Midnight whispers, velvet sleep.\n",
      "\n",
      "Claws that whisper, eyes that gleam,\n",
      "Purrs that rumble, hearts that beam.\n",
      "Tail that swishes, slow, and low,\n",
      "Feline mystique, secrets to know.\n",
      "\n",
      "Whispering winds, starry nights,\n",
      "Moonlit whispers, feline delights.\n",
      "Shadows dance, eyes aglow,\n",
      "Furry magic, hearts that know.\n",
      "\n",
      "Purrs that rumble, eyes that shine,\n",
      "Whiskers twitch, hearts that entwine.\n",
      "Furry companions, loyal friend,\n",
      "Feline magic, till the end.\n"
     ]
    }
   ],
   "source": [
    "# Invoke\n",
    "state = router_workflow.invoke({\"input\": \"Write me a poem about cats\"})\n",
    "print(state[\"output\"])"
   ]
  },
  {
   "cell_type": "markdown",
   "id": "a9972e1c",
   "metadata": {},
   "source": [
    "### Orchestrator-Worker\n",
    "\n",
    "In the orchestrator-workers workflow, a central LLM dynamically breaks down tasks, delegates them to worker LLMs, and synthesizes their results.\n",
    "\n",
    "When to use this workflow: This workflow is well-suited for complex tasks where you can't predict the subtasks needed (in coding, for example, the number of files that need to be changed and the nature of the change in each file likely depend on the task). Whereas it's topographically similar, the key difference from parallelization is its flexibility--subtasks aren't pre-defined, but determined by the orchestrator based on the specific input."
   ]
  },
  {
   "cell_type": "code",
   "execution_count": 63,
   "id": "b471f315",
   "metadata": {},
   "outputs": [],
   "source": [
    "from typing import Annotated, List\n",
    "import operator\n",
    "\n",
    "# Schema for structured output to use in planning\n",
    "class Section(BaseModel):\n",
    "    name: str = Field(\n",
    "        description=\"Name for this section of the report.\",\n",
    "    )\n",
    "    description: str = Field(\n",
    "        description=\"Brief overview of the main topics and concepts to be covered in this section.\",\n",
    "    )\n",
    "\n",
    "class Sections(BaseModel):\n",
    "    sections: List[Section] = Field(\n",
    "        description=\"Sections of the report.\",\n",
    "    )\n",
    "\n",
    "# Augment the LLM with schema for structured output\n",
    "planner = llm.with_structured_output(Sections)"
   ]
  },
  {
   "cell_type": "markdown",
   "id": "4a0b729f",
   "metadata": {},
   "source": [
    "### Creating Workers in LangGraph\n",
    "\n",
    "Because orchestrator-worker workflows are common, LangGraph has the Send API to support this. It lets you dynamically create nodes and send each one a specific input.\n",
    "Each worker has its own state, and all worker outputs are written to a shared state key that is accessibe to the orchestrator graph. This gives the orchestrator access to all worker output and allows it to synthesize them into final output. As you can see below, we iterate over a list of sections and Send each to a worker node."
   ]
  },
  {
   "cell_type": "code",
   "execution_count": 70,
   "id": "cd8ef7e4",
   "metadata": {},
   "outputs": [],
   "source": [
    "from langgraph.constants import Send\n",
    "\n",
    "\n",
    "# Graph state\n",
    "class State(TypedDict):\n",
    "    topic: str  # Report topic\n",
    "    sections: list[Section]  # List of report sections\n",
    "    completed_sections: Annotated[\n",
    "        list, operator.add\n",
    "    ]  # All workers write to this key in parallel\n",
    "    final_report: str  # Final report\n",
    "\n",
    "# Worker state\n",
    "class WorkerState(TypedDict):\n",
    "    section: Section\n",
    "    completed_sections: Annotated[list, operator.add]\n",
    "\n",
    "# Nodes\n",
    "def orchestrator(state: State):\n",
    "    \"\"\"Orchestrator that generates a plan for the report\"\"\"\n",
    "\n",
    "    # Generate queries\n",
    "    report_sections = planner.invoke(\n",
    "        [\n",
    "            SystemMessage(content=\"Generate a plan for the report.\"),\n",
    "            HumanMessage(content=f\"Here is the report topic: {state['topic']}\"),\n",
    "        ]\n",
    "    )\n",
    "\n",
    "    print(\"Report Sections:\",report_sections)\n",
    "\n",
    "    return {\"sections\": report_sections.sections}\n",
    "\n",
    "def llm_call(state: WorkerState):\n",
    "    \"\"\"Worker writes a section of the report\"\"\"\n",
    "\n",
    "    # Generate section\n",
    "    section = llm.invoke(\n",
    "        [\n",
    "            SystemMessage(\n",
    "                content=\"Write a report section following the provided name and description. Include no preamble for each section. Use markdown formatting.\"\n",
    "            ),\n",
    "            HumanMessage(\n",
    "                content=f\"Here is the section name: {state['section'].name} and description: {state['section'].description}\"\n",
    "            ),\n",
    "        ]\n",
    "    )\n",
    "\n",
    "    # Write the updated section to completed sections\n",
    "    return {\"completed_sections\": [section.content]}\n",
    "\n",
    "\n",
    "def synthesizer(state: State):\n",
    "    \"\"\"Synthesize full report from sections\"\"\"\n",
    "\n",
    "    # List of completed sections\n",
    "    completed_sections = state[\"completed_sections\"]\n",
    "\n",
    "    # Format completed section to str to use as context for final sections\n",
    "    completed_report_sections = \"\\n\\n---\\n\\n\".join(completed_sections)\n",
    "\n",
    "    return {\"final_report\": completed_report_sections}\n",
    "\n",
    "\n",
    "# Conditional edge function to create llm_call workers that each write a section of the report\n",
    "def assign_workers(state: State):\n",
    "    \"\"\"Assign a worker to each section in the plan\"\"\"\n",
    "\n",
    "    # Kick off section writing in parallel via Send() API\n",
    "    return [Send(\"llm_call\", {\"section\": s}) for s in state[\"sections\"]]\n"
   ]
  },
  {
   "cell_type": "code",
   "execution_count": 71,
   "id": "b0ba1711",
   "metadata": {},
   "outputs": [
    {
     "data": {
      "image/png": "[encoded data removed]",
      "text/plain": [
       "<IPython.core.display.Image object>"
      ]
     },
     "metadata": {},
     "output_type": "display_data"
    }
   ],
   "source": [
    "# Build workflow\n",
    "orchestrator_worker_builder = StateGraph(State)\n",
    "\n",
    "# Add the nodes\n",
    "orchestrator_worker_builder.add_node(\"orchestrator\", orchestrator)\n",
    "orchestrator_worker_builder.add_node(\"llm_call\", llm_call)\n",
    "orchestrator_worker_builder.add_node(\"synthesizer\", synthesizer)\n",
    "\n",
    "# Add edges to connect nodes\n",
    "orchestrator_worker_builder.add_edge(START, \"orchestrator\")\n",
    "orchestrator_worker_builder.add_conditional_edges(\n",
    "    \"orchestrator\", assign_workers, [\"llm_call\"]\n",
    ")\n",
    "orchestrator_worker_builder.add_edge(\"llm_call\", \"synthesizer\")\n",
    "orchestrator_worker_builder.add_edge(\"synthesizer\", END)\n",
    "\n",
    "# Compile the workflow\n",
    "orchestrator_worker = orchestrator_worker_builder.compile()\n",
    "\n",
    "# Show the workflow\n",
    "display(Image(orchestrator_worker.get_graph().draw_mermaid_png()))\n",
    "\n"
   ]
  },
  {
   "cell_type": "code",
   "execution_count": 72,
   "id": "4e5d4c6b",
   "metadata": {},
   "outputs": [
    {
     "name": "stdout",
     "output_type": "stream",
     "text": [
      "Report Sections: sections=[Section(name='Introduction', description='This section will introduce the concept of Agentic AI and its relevance to RAGs.'), Section(name='What are RAGs?', description='This section will define RAGs and how they relate to Agentic AI.')]\n"
     ]
    },
    {
     "data": {
      "text/markdown": [
       "**Introduction and Description**\n",
       "===============\n",
       "\n",
       "Agentic AI refers to artificial intelligence that demonstrate agency, which is the capacity to make decisions and act upon them in a given environment. This concept is particularly relevant to RAGs (Research Administration Groups) as they are responsible for managing and overseeing research projects that increasingly rely on AI systems, and data analytics. The integration of AI in research projects has the potential to revolutionize the way RAGs operate, making them more efficient, effective, and innovative. However, it also raises new challenges and concerns that need to be addressed. This report aims to explore the implications of Agentic AI on RAGs, its benefits, and challenges, and provide recommendations for its successful integration.\n",
       "\n",
       "---\n",
       "\n",
       "### What are RAGs?\n",
       "RAGs (Reasoning-Action-Generation) are a type of Artificial General Intelligence (AGI) that enables the development of autonomous agents capable of performing complex tasks in dynamic environments. In the context of Agentic AI, RAGs serve as the core cognitive architecture, providing the necessary reasoning, decision-making, and action-generation capabilities for agents to interact with their environment, adapt to changes, and achieve their objectives.\n",
       "\n",
       "RAGs consist of three primary components:\n",
       "\n",
       "* **Reasoning**: The agent's ability to perceive its environment, interpret sensory data, and make informed decisions based on its knowledge, goals, and current situation.\n",
       "* **Action-Generation**: The agent's capacity to translate its decisions into concrete actions that can be executed in the environment.\n",
       "* **Feedback Loop**: The continuous cycle of sensing, reasoning, and feedback, which enables it to learn from its experiences, adapt to changes, and refine its decision-making processes over time.\n",
       "\n",
       "By integrating these components, RAGs empower Agentic AI agents to exhibit intelligent behavior, such as problem-solving, planning, and learning, allowing them to operate effectively in complex, dynamic environments."
      ],
      "text/plain": [
       "<IPython.core.display.Markdown object>"
      ]
     },
     "execution_count": 72,
     "metadata": {},
     "output_type": "execute_result"
    }
   ],
   "source": [
    "# Invoke\n",
    "state = orchestrator_worker.invoke({\"topic\": \"Create a report on Agentic AI RAGs\"})\n",
    "\n",
    "from IPython.display import Markdown\n",
    "Markdown(state[\"final_report\"])"
   ]
  },
  {
   "cell_type": "code",
   "execution_count": null,
   "id": "888dffb7",
   "metadata": {},
   "outputs": [],
   "source": []
  }
 ],
 "metadata": {
  "kernelspec": {
   "display_name": "venv",
   "language": "python",
   "name": "python3"
  },
  "language_info": {
   "codemirror_mode": {
    "name": "ipython",
    "version": 3
   },
   "file_extension": ".py",
   "mimetype": "text/x-python",
   "name": "python",
   "nbconvert_exporter": "python",
   "pygments_lexer": "ipython3",
   "version": "3.12.0"
  }
 },
 "nbformat": 4,
 "nbformat_minor": 5
}
