{
 "cells": [
  {
   "cell_type": "markdown",
   "id": "9e3996f5",
   "metadata": {},
   "source": [
    "### Pydantic Example\n"
   ]
  },
  {
   "cell_type": "code",
   "execution_count": 1,
   "id": "c47a645d",
   "metadata": {},
   "outputs": [],
   "source": [
    "from typing_extensions import TypedDict\n",
    "\n",
    "class State(TypedDict):\n",
    "    xyz: str\n",
    "    abc: str"
   ]
  },
  {
   "cell_type": "code",
   "execution_count": 17,
   "id": "b93e4d04",
   "metadata": {},
   "outputs": [],
   "source": [
    "from langgraph.graph import StateGraph, START, END\n",
    "from typing_extensions import TypedDict\n",
    "\n",
    "from pydantic import BaseModel, StrictStr\n",
    "\n",
    "\n",
    "# The overall state of the graph (this is the public state shared across nodes)\n",
    "class OverallState(BaseModel):\n",
    "    a: StrictStr\n",
    "\n",
    "def node(state:OverallState):\n",
    "    return {\"a\":\"Hi I am Deepak\"}"
   ]
  },
  {
   "cell_type": "code",
   "execution_count": 18,
   "id": "7977667c",
   "metadata": {},
   "outputs": [],
   "source": [
    "# Build the state graph\n",
    "builder = StateGraph(OverallState)\n",
    "builder.add_node(node)  # node_1 is the first node\n",
    "builder.add_edge(START, \"node\")  # Start the graph with node_1\n",
    "builder.add_edge(\"node\", END)  # End the graph after node_1\n",
    "graph = builder.compile()"
   ]
  },
  {
   "cell_type": "code",
   "execution_count": 19,
   "id": "3b067448",
   "metadata": {},
   "outputs": [
    {
     "data": {
      "text/plain": [
       "{'a': 'Hi I am Deepak'}"
      ]
     },
     "execution_count": 19,
     "metadata": {},
     "output_type": "execute_result"
    }
   ],
   "source": [
    "graph.invoke({'a': 'Hello'})"
   ]
  },
  {
   "cell_type": "code",
   "execution_count": 20,
   "id": "a27070cb",
   "metadata": {},
   "outputs": [],
   "source": [
    "try:\n",
    "    graph.invoke({\"a\":123}) # should be a string\n",
    "except Exception as e:\n",
    "    print(\"Exception was raised because a value is integer\")"
   ]
  },
  {
   "cell_type": "code",
   "execution_count": 21,
   "id": "f258e6af",
   "metadata": {},
   "outputs": [
    {
     "data": {
      "text/plain": [
       "{'a': 'Hi I am Deepak'}"
      ]
     },
     "execution_count": 21,
     "metadata": {},
     "output_type": "execute_result"
    }
   ],
   "source": [
    "graph.invoke({'a':123})"
   ]
  },
  {
   "cell_type": "markdown",
   "id": "d9033a74",
   "metadata": {},
   "source": [
    "### Multiple Nodes - Run time validation\n",
    "\n",
    "Run-time validation will also work in a multi-node graph. In the example below bad_node updates a to an integer.\n",
    "\n",
    "Because run-time validation occurs on inputs, the validation error will occur when ok_node is called(not when bad_node returns an update to the state which is in consistent with the schema)."
   ]
  },
  {
   "cell_type": "code",
   "execution_count": 22,
   "id": "b0cda62b",
   "metadata": {},
   "outputs": [],
   "source": [
    "from langgraph.graph import StateGraph, START, END\n",
    "from typing_extensions import TypedDict\n",
    "\n",
    "from pydantic import BaseModel\n",
    "\n",
    "class OverallState(BaseModel):\n",
    "    a:str\n",
    "\n",
    "def bad_node(state:OverallState):\n",
    "    return{\n",
    "        'a':123 # Invalid\n",
    "    }\n",
    "\n",
    "def ok_node(state:OverallState):\n",
    "    return {'a':'goodbye'}\n",
    "\n",
    "# Build the state graph\n",
    "builder = StateGraph(OverallState)\n",
    "builder.add_node(bad_node)\n",
    "builder.add_node(ok_node)\n",
    "builder.add_edge(START, 'bad_node')\n",
    "builder.add_edge('bad_node', 'ok_node')\n",
    "builder.add_edge('ok_node', END)\n",
    "graph = builder.compile()"
   ]
  },
  {
   "cell_type": "code",
   "execution_count": 28,
   "id": "29f50bf7",
   "metadata": {},
   "outputs": [],
   "source": [
    "# Test the graph with a valid input\n",
    "try:\n",
    "    graph.invoke({'a':123.00})\n",
    "except Excpetion as e:\n",
    "    print(\"An exception was raised because bad_node sets 'a' to an integer.\")\n",
    "    print(e)"
   ]
  },
  {
   "cell_type": "code",
   "execution_count": 27,
   "id": "cf5a2d10",
   "metadata": {},
   "outputs": [
    {
     "data": {
      "text/plain": [
       "{'a': 'goodbye'}"
      ]
     },
     "execution_count": 27,
     "metadata": {},
     "output_type": "execute_result"
    }
   ],
   "source": [
    "graph.invoke({'a':'Deepak'})"
   ]
  },
  {
   "cell_type": "markdown",
   "id": "137cbe61",
   "metadata": {},
   "source": [
    "### Prompt Chaining\n",
    "\n",
    "Prompt chaining decomposes a task into sequence of steps, where each LLM call processes the output of the previous one. You can add programmatic checks on any intermediate steps to ensure that the process is still on track.\n",
    "\n",
    "When to use this workflow: This workflow is ideal for situations where the task can be easily and clearly decomposed into fixed subtasks. The main goal is to trade off latency for higher accuracy, by making each LLM call an easier task."
   ]
  },
  {
   "cell_type": "code",
   "execution_count": 30,
   "id": "676db1f7",
   "metadata": {},
   "outputs": [
    {
     "data": {
      "text/plain": [
       "AIMessage(content=\"Hello! It's nice to meet you. Is there something I can help you with, or would you like to chat?\", additional_kwargs={}, response_metadata={'token_usage': {'completion_tokens': 26, 'prompt_tokens': 11, 'total_tokens': 37, 'completion_time': 0.074285714, 'prompt_time': 0.000128439, 'queue_time': 0.052475100999999996, 'total_time': 0.074414153}, 'model_name': 'llama3-70b-8192', 'system_fingerprint': 'fp_dd4ae1c591', 'finish_reason': 'stop', 'logprobs': None}, id='run-3af366ae-a301-43b5-a113-f1b8a14926bf-0', usage_metadata={'input_tokens': 11, 'output_tokens': 26, 'total_tokens': 37})"
      ]
     },
     "execution_count": 30,
     "metadata": {},
     "output_type": "execute_result"
    }
   ],
   "source": [
    "import os \n",
    "from dotenv import load_dotenv\n",
    "load_dotenv()\n",
    "\n",
    "from langchain_groq import ChatGroq\n",
    "\n",
    "os.environ['GROQ_API_KEY'] = os.getenv('GROQ_API_KEY')\n",
    "\n",
    "llm = ChatGroq(model='llama3-70b-8192')\n",
    "result = llm.invoke('Hello')\n",
    "result\n"
   ]
  },
  {
   "cell_type": "code",
   "execution_count": 32,
   "id": "cd39b22e",
   "metadata": {},
   "outputs": [],
   "source": [
    "from typing_extensions import TypedDict\n",
    "from langgraph.graph import StateGraph, START, END\n",
    "from IPython.display import Image, display\n",
    "\n",
    "# Graph state\n",
    "class State(TypedDict):\n",
    "    topic: str\n",
    "    joke: str\n",
    "    improved_joke: str\n",
    "    final_joke: str\n"
   ]
  },
  {
   "cell_type": "code",
   "execution_count": 39,
   "id": "75ef25fb",
   "metadata": {},
   "outputs": [],
   "source": [
    "# Nodes\n",
    "def generate_joke(state: State):\n",
    "    \"\"\"First LLM call to generate initial joke\"\"\"\n",
    "\n",
    "    msg = llm.invoke(f\"Write a short joke about {state['topic']}\")\n",
    "    return {\"joke\": msg.content}\n",
    "\n",
    "def check_punchline(state: State):\n",
    "    \"\"\"Gate function to check if the joke has a punchline\"\"\"\n",
    "\n",
    "    # Simple check - does the joke contain \"?\" or \"!\"\n",
    "    if \"?\" in state[\"joke\"] or \"!\" in state[\"joke\"]:\n",
    "        return \"Fail\"\n",
    "    return \"Pass\"\n",
    "\n",
    "def improve_joke(state: State):\n",
    "    \"\"\"Second LLM call to improve the joke\"\"\"\n",
    "\n",
    "    msg = llm.invoke(f\"Make this joke funnier by adding wordplay: {state['joke']}\")\n",
    "    return {\"improved_joke\": msg.content}\n",
    "\n",
    "def polish_joke(state: State):\n",
    "    \"\"\"Third LLM call for final polish\"\"\"\n",
    "\n",
    "    msg = llm.invoke(f\"Add a surprising twist to this joke: {state['improved_joke']}\")\n",
    "    return {\"final_joke\": msg.content}\n",
    "\n"
   ]
  },
  {
   "cell_type": "code",
   "execution_count": 40,
   "id": "013cebe4",
   "metadata": {},
   "outputs": [
    {
     "data": {
      "image/png": "[encoded data removed]",
      "text/plain": [
       "<IPython.core.display.Image object>"
      ]
     },
     "metadata": {},
     "output_type": "display_data"
    }
   ],
   "source": [
    "# Build workflow\n",
    "workflow = StateGraph(State)\n",
    "\n",
    "# Add nodes\n",
    "workflow.add_node(\"generate_joke\", generate_joke)\n",
    "workflow.add_node(\"improve_joke\", improve_joke)\n",
    "workflow.add_node(\"polish_joke\", polish_joke)\n",
    "\n",
    "# Add edges to connect nodes\n",
    "workflow.add_edge(START, \"generate_joke\")\n",
    "workflow.add_conditional_edges(\"generate_joke\",check_punchline,{\"Fail\":\"improve_joke\",\"Pass\":END})\n",
    "workflow.add_edge(\"improve_joke\", \"polish_joke\")\n",
    "workflow.add_edge(\"polish_joke\", END)\n",
    "\n",
    "# Compile\n",
    "chain = workflow.compile()\n",
    "\n",
    "# Show workflow\n",
    "display(Image(chain.get_graph().draw_mermaid_png()))\n",
    "\n"
   ]
  },
  {
   "cell_type": "code",
   "execution_count": 43,
   "id": "9c7fb077",
   "metadata": {},
   "outputs": [],
   "source": [
    "state = chain.invoke({\"topic\": \"baby\"})"
   ]
  },
  {
   "cell_type": "code",
   "execution_count": 44,
   "id": "eadad3c2",
   "metadata": {},
   "outputs": [
    {
     "data": {
      "text/plain": [
       "{'topic': 'baby',\n",
       " 'joke': 'Why did the baby\\'s first word was \"mama\"?\\n\\nBecause it was the only word that came with a warranty!',\n",
       " 'improved_joke': 'Here\\'s a revised version with some added wordplay:\\n\\nWhy did the baby\\'s first word have to be \"mama\"?\\n\\nBecause it was the only word that came with a mom-umental warranty, and the little one wanted to ensure they had a parent-al guarantee of love and care!',\n",
       " 'final_joke': 'Here\\'s a revised version with a surprising twist:\\n\\nWhy did the baby\\'s first word have to be \"mama\"?\\n\\nBecause it was the only word that came with a mom-umental warranty, and the little one wanted to ensure they had a parent-al guarantee of love and care... but little did they know, the warranty was issued by a secret society of ninja moms, and the \"care\" clause included stealth training and a lifetime supply of ninja diapers!'}"
      ]
     },
     "execution_count": 44,
     "metadata": {},
     "output_type": "execute_result"
    }
   ],
   "source": [
    "state"
   ]
  },
  {
   "cell_type": "code",
   "execution_count": 46,
   "id": "685b1f86",
   "metadata": {},
   "outputs": [
    {
     "data": {
      "text/plain": [
       "'Here\\'s a revised version with some added wordplay:\\n\\nWhy did the baby\\'s first word have to be \"mama\"?\\n\\nBecause it was the only word that came with a mom-umental warranty, and the little one wanted to ensure they had a parent-al guarantee of love and care!'"
      ]
     },
     "execution_count": 46,
     "metadata": {},
     "output_type": "execute_result"
    }
   ],
   "source": [
    "state['improved_joke']"
   ]
  },
  {
   "cell_type": "code",
   "execution_count": 47,
   "id": "942d883c",
   "metadata": {},
   "outputs": [
    {
     "data": {
      "text/plain": [
       "'Here\\'s a revised version with a surprising twist:\\n\\nWhy did the baby\\'s first word have to be \"mama\"?\\n\\nBecause it was the only word that came with a mom-umental warranty, and the little one wanted to ensure they had a parent-al guarantee of love and care... but little did they know, the warranty was issued by a secret society of ninja moms, and the \"care\" clause included stealth training and a lifetime supply of ninja diapers!'"
      ]
     },
     "execution_count": 47,
     "metadata": {},
     "output_type": "execute_result"
    }
   ],
   "source": [
    "state['final_joke']"
   ]
  },
  {
   "cell_type": "markdown",
   "id": "ca21f684",
   "metadata": {},
   "source": [
    "### Parallelization\n",
    "\n",
    "With parallelization, LLMs work simultaneously on a task:\n",
    "\n",
    "LLMs can sometimes work simultaneously on a task and have their outputs aggregated programmatically. This workflow, parallelization, manifests in two key variations:-\n",
    "\n",
    "Sectioning: Breaking a task into independent subtask run in parallel.\n",
    "\n",
    "Voting: Running the same task multiple times to get diverse outputs.\n",
    "\n",
    "When to use this workflow: Paralleleization is effective when the divided subtasks can be parrallelized for speed, or when multiple perspectives or attempts are needed for higher confidence results. For complex tasks with multiple considerations, LLMs generally perform better when each consideration is handled by the seperate LLM call, allowing focused attention on each specific aspect."
   ]
  },
  {
   "cell_type": "code",
   "execution_count": 50,
   "id": "a814dd77",
   "metadata": {},
   "outputs": [
    {
     "data": {
      "image/png": "[encoded data removed]",
      "text/plain": [
       "<IPython.core.display.Image object>"
      ]
     },
     "metadata": {},
     "output_type": "display_data"
    },
    {
     "name": "stdout",
     "output_type": "stream",
     "text": [
      "Here's a story, joke, and poem about cats!\n",
      "\n",
      "STORY: \n",
      "**Whisker Tales**\n",
      "\n",
      "In the sleepy town of Felinia, where sunbeams danced through the windows and catnip grew wild, a mystical realm thrived. Here, cats ruled supreme, their whims and fancies governing the world. A magical council, comprised of nine wise felines, governed the land, ensuring harmony and balance among all creatures.\n",
      "\n",
      "Our tale begins with a curious, mischievous calico named Luna. Born with a spark of mischief in her eye, Luna loved to explore the hidden corners of Felinia. One day, while prowling through the Whispering Walls, a labyrinthine alleyway lined with ancient stones, she stumbled upon an enchanted artifact – the Golden Whisker of Fate.\n",
      "\n",
      "Legend whispered that this whisker, forged from the essence of the first cat, held the power to shape destiny. Luna, intrigued by the whispers, decided to investigate further. As she grasped the whisker, a sudden, blinding flash illuminated the alley. When the light faded, Luna discovered herself transformed into a magnificent creature: the Guardian of Whiskers.\n",
      "\n",
      "With her newfound powers, Luna set out to maintain balance in Felinia. Her first mission was to settle a dispute between two rival cat clans: the regal, majestic Siamese and the cunning, agile Abyssinians. For generations, the two clans had vied for dominance, causing tension throughout the land.\n",
      "\n",
      "Luna, donning her Golden Whisker, convened a grand council in the Heartwood Tree, a sacred gathering place where ancient cat wisdom dwelled. She summoned the leaders of both clans, wise old Rama, the Siamese patriarch, and cunning Astra, the Abyssinian matriarch.\n",
      "\n",
      "With the Golden Whisker's guidance, Luna mediated the dispute, revealing the hidden strengths and weaknesses of each clan. Rama's diplomatic prowess and Astra's cunning strategic mind were key to resolving the conflict. Through Luna's guidance, the two leaders forged an alliance, cementing a lasting peace.\n",
      "\n",
      "As news of Luna's heroism spread, the mystical council recognized her as a worthy member, elevating her to the esteemed position of Whisker Ambassador. With her Golden Whisker of Fate, Luna continued to maintain harmony in Felinia, ensuring that the delicate balance of power remained intact.\n",
      "\n",
      "In time, Luna's legend grew, inspiring generations of cats to strive for wisdom, courage, and diplomacy. Her Whisker Tales, a testament to the transformative power of friendship and cooperation, were etched into the annals of Felinia's history, forever reminding cats that even the smallest spark can ignite a beacon of hope and unity.**\n",
      "\n",
      "Would you like me to continue the story or explore a different tale?\n",
      "\n",
      "JOKE: \n",
      "Why did the cat join a band?\n",
      "\n",
      "Because it wanted to be the purr-cussionist!\n",
      "\n",
      "POEM:\n",
      "Whispers in the moon's pale light,\n",
      "Eyes like lanterns, shining bright.\n",
      "Their velvet paws, a gentle sway,\n",
      "As they prowl through the night's gray way.\n",
      "\n",
      "Their fur, a soft and silky stream,\n",
      "That flows like honey, warm and dream.\n",
      "Their little noses, pink and fine,\n",
      "Twitching with each subtle scent divine.\n",
      "\n",
      "Their playful pounces, full of glee,\n",
      "Their little meows, a sweet melody.\n",
      "Their cuddles, warm, and sweet as love,\n",
      "A treasure trove, sent from above.\n",
      "\n",
      "Oh, cats, you rule our hearts, it's true,\n",
      "With your independence, and your \"mews\" anew.\n",
      "You bring us joy, and comfort too,\n",
      "A gentle companionship, forever true.\n",
      "\n",
      "So here's to you, our feline friends,\n",
      ",\n",
      "A poem, penned, till the very end.\n",
      "For you, dear cats, are a precious find,\n",
      "A treasure, one of a kind.\n"
     ]
    }
   ],
   "source": [
    "# Graph state\n",
    "class State(TypedDict):\n",
    "    topic:str\n",
    "    joke:str\n",
    "    story:str\n",
    "    poem:str\n",
    "    combined_output:str\n",
    "\n",
    "\n",
    "# Nodes\n",
    "def call_llm_1(state: State):\n",
    "    \"\"\"First LLM call to generate initial joke\"\"\"\n",
    "\n",
    "    msg = llm.invoke(f\"Write a joke about {state['topic']}\")\n",
    "    return {\"joke\": msg.content}\n",
    "\n",
    "def call_llm_2(state:State):\n",
    "    \"\"\"Second LLM call to generate story\"\"\"\n",
    "\n",
    "    msg = llm.invoke(f\"Write a astory about {state['topic']}\")\n",
    "    return {\"story\": msg.content}\n",
    "\n",
    "def call_llm_3(state: State):\n",
    "    \"\"\"Third LLM call to generate poem\"\"\"\n",
    "\n",
    "    msg = llm.invoke(f\"Write a poem about {state['topic']}\")\n",
    "    return {\"poem\": msg.content}\n",
    "\n",
    "def aggregator(state: State):\n",
    "    \"\"\"Combine the joke, story and poem into a single output\"\"\"\n",
    "\n",
    "    combined = f\"Here's a story, joke, and poem about {state['topic']}!\\n\\n\"\n",
    "    combined += f\"STORY: \\n{state['story']}\\n\\n\"\n",
    "    combined += f\"JOKE: \\n{state['joke']}\\n\\n\"\n",
    "    combined += f\"POEM:\\n{state['poem']}\"\n",
    "    return {\"combined_output\": combined}\n",
    "\n",
    "# Build workflow\n",
    "parallel_builder = StateGraph(State)\n",
    "\n",
    "# Add nodes\n",
    "parallel_builder.add_node(\"call_llm_1\", call_llm_1)\n",
    "parallel_builder.add_node(\"call_llm_2\", call_llm_2)\n",
    "parallel_builder.add_node(\"call_llm_3\", call_llm_3)\n",
    "parallel_builder.add_node(\"aggregator\", aggregator)\n",
    "\n",
    "# Add edges to connect nodes\n",
    "parallel_builder.add_edge(START, \"call_llm_1\")\n",
    "parallel_builder.add_edge(START, \"call_llm_2\")\n",
    "parallel_builder.add_edge(START, \"call_llm_3\")\n",
    "parallel_builder.add_edge(\"call_llm_1\", \"aggregator\")\n",
    "parallel_builder.add_edge(\"call_llm_2\", \"aggregator\")\n",
    "parallel_builder.add_edge(\"call_llm_3\", \"aggregator\")\n",
    "parallel_builder.add_edge(\"aggregator\", END)\n",
    "parallel_workflow = parallel_builder.compile()\n",
    "\n",
    "# Show workflow\n",
    "display(Image(parallel_workflow.get_graph().draw_mermaid_png()))\n",
    "\n",
    "state = parallel_workflow.invoke({\"topic\": \"cats\"})\n",
    "print(state[\"combined_output\"])"
   ]
  },
  {
   "cell_type": "code",
   "execution_count": null,
   "id": "4dcba783",
   "metadata": {},
   "outputs": [],
   "source": []
  }
 ],
 "metadata": {
  "kernelspec": {
   "display_name": "venv",
   "language": "python",
   "name": "python3"
  },
  "language_info": {
   "codemirror_mode": {
    "name": "ipython",
    "version": 3
   },
   "file_extension": ".py",
   "mimetype": "text/x-python",
   "name": "python",
   "nbconvert_exporter": "python",
   "pygments_lexer": "ipython3",
   "version": "3.12.0"
  }
 },
 "nbformat": 4,
 "nbformat_minor": 5
}
